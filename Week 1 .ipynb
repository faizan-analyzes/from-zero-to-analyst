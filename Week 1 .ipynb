{
 "cells": [
  {
   "cell_type": "code",
   "execution_count": null,
   "id": "2779cd9e",
   "metadata": {},
   "outputs": [
    {
     "name": "stdout",
     "output_type": "stream",
     "text": [
      "you are an ADULT\n"
     ]
    }
   ],
   "source": [
    "#if elif else staments\n",
    "\n",
    "age = 74\n",
    "\n",
    "if age < 18:\n",
    "    print(\"you are TEENAGER\")\n",
    "elif age<13:\n",
    "    print(\"You are a CHILD\")\n",
    "else:\n",
    "    print(\"you are an ADULT\")"
   ]
  },
  {
   "cell_type": "code",
   "execution_count": null,
   "id": "d13dce71",
   "metadata": {},
   "outputs": [
    {
     "name": "stdout",
     "output_type": "stream",
     "text": [
      "The number is zero or negative\n"
     ]
    }
   ],
   "source": [
    "#Nested Conditional statements\n",
    "#check number is negative,odd or evren\n",
    "\n",
    "num = int(input(\"enter the number\"))\n",
    "if num > 0:\n",
    "    print(\"Number is Positive\")\n",
    "    if num %2 == 0:\n",
    "        print(\"Number is Even\")\n",
    "    else:\n",
    "        print(\"number is Odd\")\n",
    "else :\n",
    "    print(\"The number is zero or negative\")"
   ]
  },
  {
   "cell_type": "code",
   "execution_count": null,
   "id": "a568bd5f",
   "metadata": {},
   "outputs": [
    {
     "name": "stdout",
     "output_type": "stream",
     "text": [
      "2020 is a leap year\n"
     ]
    }
   ],
   "source": [
    "#pactical example\n",
    "#determine the given year is a leap year or not using nested\n",
    "\n",
    "year = int(input(\"Enter the year\"))\n",
    "\n",
    "if year%4==0:\n",
    "    if year%100==0:\n",
    "        if year%400==0:\n",
    "            print(year, \"is a leap year\")\n",
    "        else:\n",
    "            print(year, \"is not leap year\")\n",
    "    else:\n",
    "        print(year, \"is a leap year\")\n",
    "\n",
    "else:\n",
    "    print(year, \"is not a leap year\")"
   ]
  },
  {
   "cell_type": "code",
   "execution_count": 2,
   "id": "cb39c6ec",
   "metadata": {},
   "outputs": [
    {
     "name": "stdout",
     "output_type": "stream",
     "text": [
      "number is negative\n"
     ]
    }
   ],
   "source": [
    "#Write a program that asks the user to input a number and prints whether the number is positive.\n",
    "\n",
    "num = int(input(\"Enter the number\"))\n",
    "if num > 0:\n",
    "    print(\"Number is positive\")\n",
    "else :\n",
    "    print(\"number is negative\")\n"
   ]
  },
  {
   "cell_type": "code",
   "execution_count": 6,
   "id": "92653676",
   "metadata": {},
   "outputs": [
    {
     "name": "stdout",
     "output_type": "stream",
     "text": [
      "Given number is zero\n"
     ]
    }
   ],
   "source": [
    "#Write a program that asks the user to input a number and prints whether the number is positive, negative, or zero.\n",
    "\n",
    "val = int(input(\"Enter the number\"))\n",
    "if val > 0:\n",
    "    print(val, \"is positive\")\n",
    "elif val < 0:\n",
    "    print(val , \"is negative\")\n",
    "else :\n",
    "    print(\"Given number is zero\")"
   ]
  },
  {
   "cell_type": "code",
   "execution_count": null,
   "id": "743bca95",
   "metadata": {},
   "outputs": [],
   "source": [
    "#Write a program that asks the user to input a number and prints whether the number is positive and even, positive and odd, or negative.\n",
    "\n",
    "number = int(input(\"Enter the number: \"))\n",
    "if number > 0:\n",
    "    if number%2==0:\n",
    "        print(number, \"is Positive and Even\")\n",
    "    else :\n",
    "        print(number, \"is positive and Odd\")\n",
    "else number < 0 :\n",
    "    print(number, (\"is negative\"))"
   ]
  },
  {
   "cell_type": "code",
   "execution_count": null,
   "id": "757a99ba",
   "metadata": {},
   "outputs": [],
   "source": []
  }
 ],
 "metadata": {
  "kernelspec": {
   "display_name": "base",
   "language": "python",
   "name": "python3"
  },
  "language_info": {
   "codemirror_mode": {
    "name": "ipython",
    "version": 3
   },
   "file_extension": ".py",
   "mimetype": "text/x-python",
   "name": "python",
   "nbconvert_exporter": "python",
   "pygments_lexer": "ipython3",
   "version": "3.13.5"
  }
 },
 "nbformat": 4,
 "nbformat_minor": 5
}
